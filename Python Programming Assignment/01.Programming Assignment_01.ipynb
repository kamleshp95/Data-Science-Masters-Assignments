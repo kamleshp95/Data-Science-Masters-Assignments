{
 "cells": [
  {
   "cell_type": "markdown",
   "metadata": {},
   "source": [
    "# Assignment 1 Solutions"
   ]
  },
  {
   "cell_type": "markdown",
   "metadata": {},
   "source": [
    "#### 1.Write a Python program to print 'Hello Python' ?"
   ]
  },
  {
   "cell_type": "code",
   "execution_count": 3,
   "metadata": {},
   "outputs": [
    {
     "name": "stdout",
     "output_type": "stream",
     "text": [
      "Hello Python\n"
     ]
    }
   ],
   "source": [
    "print('Hello Python')"
   ]
  },
  {
   "cell_type": "markdown",
   "metadata": {},
   "source": [
    "#### 2.Write a Python program to do arithmetic operations addition and division ?"
   ]
  },
  {
   "cell_type": "code",
   "execution_count": 8,
   "metadata": {},
   "outputs": [
    {
     "name": "stdout",
     "output_type": "stream",
     "text": [
      "The sum of a and b is  75  The division of a and b is 2.0\n"
     ]
    }
   ],
   "source": [
    "a = 50\n",
    "b = 25 \n",
    "d = a+b\n",
    "e = a/b\n",
    "print(\"The sum of a and b is \",d , \" The division of a and b is\", e )"
   ]
  },
  {
   "cell_type": "markdown",
   "metadata": {},
   "source": [
    "#### 3.Write a Python program to find the area of a triangle ?"
   ]
  },
  {
   "cell_type": "code",
   "execution_count": 4,
   "metadata": {
    "scrolled": true
   },
   "outputs": [
    {
     "name": "stdout",
     "output_type": "stream",
     "text": [
      "Enter height of triangle: 25\n",
      "Enter base of triangle: 30\n",
      "\n",
      "Area of triangle -> 375.0\n"
     ]
    }
   ],
   "source": [
    "height = int(input('Enter height of triangle: '))\n",
    "base = int(input('Enter base of triangle: '))\n",
    "\n",
    "def areaOfTriangle(height, base):\n",
    "    print('\\nArea of triangle ->', 1/2*height*base)\n",
    "\n",
    "areaOfTriangle(height,base)"
   ]
  },
  {
   "cell_type": "markdown",
   "metadata": {},
   "source": [
    "#### 4.Write a Python program to swap two variables ?"
   ]
  },
  {
   "cell_type": "code",
   "execution_count": 5,
   "metadata": {},
   "outputs": [
    {
     "name": "stdout",
     "output_type": "stream",
     "text": [
      "Enter the first  number=25\n",
      "Enter the second  number=12\n",
      "The swapped values are the   12 and 25\n"
     ]
    }
   ],
   "source": [
    "first = int(input(\"Enter the first  number=\"))\n",
    "second =int(input(\"Enter the second  number=\"))\n",
    "temp = first\n",
    "first = second\n",
    "second = temp\n",
    "print (\"The swapped values are the  \",first , \"and\" ,second)"
   ]
  },
  {
   "cell_type": "markdown",
   "metadata": {},
   "source": [
    "#### 5.Write a Python program to generate a random number ?"
   ]
  },
  {
   "cell_type": "code",
   "execution_count": 7,
   "metadata": {},
   "outputs": [
    {
     "name": "stdout",
     "output_type": "stream",
     "text": [
      "Random number ->  62907\n",
      "Random number ->  6\n"
     ]
    }
   ],
   "source": [
    "from random import randint\n",
    "\n",
    "def generateRandomNumber(start=0, end=100000):\n",
    "    print('Random number -> ',randint(start,end))\n",
    "\n",
    "# Generating random numbers without arguments    \n",
    "generateRandomNumber()\n",
    "\n",
    "# Generating random numbers with arguments    \n",
    "generateRandomNumber(0,100)"
   ]
  }
 ],
 "metadata": {
  "kernelspec": {
   "display_name": "Python 3",
   "language": "python",
   "name": "python3"
  },
  "language_info": {
   "codemirror_mode": {
    "name": "ipython",
    "version": 3
   },
   "file_extension": ".py",
   "mimetype": "text/x-python",
   "name": "python",
   "nbconvert_exporter": "python",
   "pygments_lexer": "ipython3",
   "version": "3.8.8"
  }
 },
 "nbformat": 4,
 "nbformat_minor": 4
}
